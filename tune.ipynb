{
 "cells": [
  {
   "cell_type": "code",
   "execution_count": 1,
   "metadata": {
    "collapsed": true
   },
   "outputs": [],
   "source": [
    "from sklearn.model_selection import ShuffleSplit\n",
    "from skimage.feature import hog\n",
    "from sklearn.preprocessing import MinMaxScaler, LabelEncoder\n",
    "import cv2\n",
    "import itertools\n",
    "import pandas as pd\n",
    "import numpy as np\n",
    "import copy\n",
    "import glob\n",
    "\n",
    "import slide\n",
    "import postprocess\n",
    "import data\n",
    "import model\n",
    "import preprocess"
   ]
  },
  {
   "cell_type": "code",
   "execution_count": 2,
   "metadata": {
    "collapsed": true
   },
   "outputs": [],
   "source": [
    "def prepare_df():\n",
    "    # Read in all the car and non-car classes\n",
    "    vehicle_data = data.retrieve_data(\"vehicles\")\n",
    "    non_vehicle_data = data.retrieve_data(\"non-vehicles\")\n",
    "\n",
    "    # TODO: Ensure there is no class imbalance; fix as necessary\n",
    "    df = pd.concat([vehicle_data, non_vehicle_data])\n",
    "    \n",
    "    # Since n_splits is 1, generator should only produce one object\n",
    "    train_idx, test_idx = next(ShuffleSplit(n_splits=1, test_size=0.2, random_state=0).split(df))\n",
    "    df['dataset'] = 'test'\n",
    "    df['dataset'].iloc[train_idx.tolist()] = 'train'\n",
    "    \n",
    "    return df\n"
   ]
  },
  {
   "cell_type": "code",
   "execution_count": 5,
   "metadata": {
    "collapsed": false
   },
   "outputs": [],
   "source": [
    "# Train the model\n",
    "import importlib\n",
    "importlib.reload(model)\n",
    "\n",
    "df = prepare_df()\n",
    "\n",
    "colorspace = 'HLS'\n",
    "orient = 12\n",
    "pix_per_cell = 8 # number of pixels to calculate the gradient\n",
    "cell_per_block = 2 # the local area over which the histogram counts in a given cell will be normalized\n",
    "# Color Bin\n",
    "COLOR_BIN_SHAPE = (16, 16)\n",
    "# Color Hist\n",
    "NUM_HIST_BINS = 32\n",
    "HIST_BINS_RANGE = (0, 256)\n",
    "\n",
    "svc_model, le, X_scaler = model.train_model(df, colorspace, orient, pix_per_cell, cell_per_block)"
   ]
  },
  {
   "cell_type": "code",
   "execution_count": null,
   "metadata": {
    "collapsed": false
   },
   "outputs": [],
   "source": [
    "# Perform a sliding window search for hogs data\n",
    "paths = glob.glob(\"project_test_images/*.jpg\")\n",
    "paths += glob.glob(\"test_images/*.jpg\")\n",
    "\n",
    "ystart = 400\n",
    "ystop = 656\n",
    "bboxes = []\n",
    "\n",
    "scale_and_thresholds = [(1, 7, 1)]\n",
    "for scale, thres, heatscale in scale_and_thresholds:\n",
    "    for path in paths:\n",
    "        print('PATH: ', path)\n",
    "        img = plt.imread(path)\n",
    "        bboxes = []\n",
    "        bboxes_sset, bbox_img = model.find_cars_hog(img, ystart, ystop, scale, svc_model, le, X_scaler, orient, pix_per_cell, cell_per_block)\n",
    "        bboxes += bboxes_sset\n",
    "        heat = np.zeros_like(img[:,:,0]).astype(np.float)\n",
    "        # Add heat to each box in box list\n",
    "        heat = postprocess.add_heat(heat,bboxes, heatscale)   \n",
    "        # Apply threshold to help remove false positives\n",
    "        heat = postprocess.apply_threshold(heat,thres)\n",
    "        # Visualize the heatmap when displaying    \n",
    "        heatmap = np.clip(heat, 0, 255)\n",
    "        # Find final boxes from heatmap using label function\n",
    "        labels = postprocess.label(heatmap)\n",
    "        draw_img = postprocess.draw_labeled_bboxes(np.copy(img), labels)\n",
    "\n",
    "        # Draw the original image, heatmap and resultant bboxes\n",
    "        fig = plt.figure(figsize=(10,10))        \n",
    "        plt.subplot(141).imshow(img)\n",
    "        plt.subplot(142).imshow(bbox_img)\n",
    "        plt.subplot(143).imshow(heatmap, cmap='hot')\n",
    "        plt.subplot(144).imshow(draw_img)\n",
    "\n",
    "        plt.show()"
   ]
  },
  {
   "cell_type": "code",
   "execution_count": null,
   "metadata": {
    "collapsed": true
   },
   "outputs": [],
   "source": []
  }
 ],
 "metadata": {
  "kernelspec": {
   "display_name": "Python 3",
   "language": "python",
   "name": "python3"
  },
  "language_info": {
   "codemirror_mode": {
    "name": "ipython",
    "version": 3
   },
   "file_extension": ".py",
   "mimetype": "text/x-python",
   "name": "python",
   "nbconvert_exporter": "python",
   "pygments_lexer": "ipython3",
   "version": "3.5.2"
  },
  "widgets": {
   "state": {},
   "version": "1.1.2"
  }
 },
 "nbformat": 4,
 "nbformat_minor": 2
}
