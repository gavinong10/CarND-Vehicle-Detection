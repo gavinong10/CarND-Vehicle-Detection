{
 "cells": [
  {
   "cell_type": "code",
   "execution_count": 1,
   "metadata": {
    "collapsed": true,
    "deletable": true,
    "editable": true
   },
   "outputs": [],
   "source": [
    "from sklearn.model_selection import ShuffleSplit\n",
    "from skimage.feature import hog\n",
    "from sklearn.preprocessing import MinMaxScaler, LabelEncoder\n",
    "import cv2\n",
    "import itertools\n",
    "import pandas as pd\n",
    "import numpy as np\n",
    "import copy\n",
    "import glob\n",
    "\n",
    "import slide\n",
    "import postprocess\n",
    "import data\n",
    "import model\n",
    "import preprocess"
   ]
  },
  {
   "cell_type": "code",
   "execution_count": 2,
   "metadata": {
    "collapsed": true,
    "deletable": true,
    "editable": true
   },
   "outputs": [],
   "source": [
    "def prepare_df():\n",
    "    # Read in all the car and non-car classes\n",
    "    vehicle_data = data.retrieve_data(\"vehicles\")\n",
    "    non_vehicle_data = data.retrieve_data(\"non-vehicles\")\n",
    "\n",
    "    # TODO: Ensure there is no class imbalance; fix as necessary\n",
    "    df = pd.concat([vehicle_data, non_vehicle_data])\n",
    "    \n",
    "    # Since n_splits is 1, generator should only produce one object\n",
    "    train_idx, test_idx = next(ShuffleSplit(n_splits=1, test_size=0.2, random_state=0).split(df))\n",
    "    df['dataset'] = 'test'\n",
    "    df['dataset'].iloc[train_idx.tolist()] = 'train'\n",
    "    \n",
    "    return df\n"
   ]
  },
  {
   "cell_type": "code",
   "execution_count": 16,
   "metadata": {
    "collapsed": false,
    "deletable": true,
    "editable": true
   },
   "outputs": [],
   "source": [
    "# Train the model\n",
    "import importlib\n",
    "importlib.reload(model)\n",
    "\n",
    "df = prepare_df()\n",
    "\n",
    "COLORSPACE = 'HLS'\n",
    "ORIENT = 12\n",
    "PIX_PER_CELL = 8 # number of pixels to calculate the gradient\n",
    "CELL_PER_BLOCK = 2 # the local area over which the histogram counts in a given cell will be normalized\n",
    "# Color Bin\n",
    "COLOR_BIN_SHAPE = (16, 16)\n",
    "# Color Hist\n",
    "NUM_HIST_BINS = 32\n",
    "\n",
    "svc_model, le, X_scaler = model.train_model(df, COLORSPACE, ORIENT, PIX_PER_CELL, CELL_PER_BLOCK)"
   ]
  },
  {
   "cell_type": "code",
   "execution_count": 85,
   "metadata": {
    "collapsed": false
   },
   "outputs": [],
   "source": [
    "import importlib\n",
    "importlib.reload(model)\n",
    "\n",
    "image_files = glob.glob(\"test_images/*.jpg\") + glob.glob(\"project_test_images/*.jpg\")\n",
    "heatmaps = model.get_sliding_window_preds(image_files, svc_model, X_scaler, le, ORIENT, PIX_PER_CELL, CELL_PER_BLOCK, \n",
    "                               y_start=400, y_stop=656, cell_stride=2,\n",
    "                               scale=1, colorspace=COLORSPACE, spatial_size=COLOR_BIN_SHAPE, hist_bins=NUM_HIST_BINS) #le???\n",
    "\n",
    "heatmaps += model.get_sliding_window_preds(image_files, svc_model, X_scaler, le, ORIENT, PIX_PER_CELL, CELL_PER_BLOCK, \n",
    "                               y_start=400, y_stop=656, cell_stride=2,\n",
    "                               scale=1.5, colorspace=COLORSPACE, spatial_size=COLOR_BIN_SHAPE, hist_bins=NUM_HIST_BINS) #le???\n",
    "\n",
    "heatmaps += model.get_sliding_window_preds(image_files, svc_model, X_scaler, le, ORIENT, PIX_PER_CELL, CELL_PER_BLOCK, \n",
    "                               y_start=400, y_stop=500, cell_stride=2,\n",
    "                               scale=0.75, colorspace=COLORSPACE, spatial_size=COLOR_BIN_SHAPE, hist_bins=NUM_HIST_BINS) #le???\n"
   ]
  },
  {
   "cell_type": "code",
   "execution_count": 92,
   "metadata": {
    "collapsed": false
   },
   "outputs": [],
   "source": [
    "class RingBufSmoother(object):\n",
    "        \"\"\"\n",
    "        Smoothes heatmaps across several iterations and applies thresholds\n",
    "        \"\"\"\n",
    "\n",
    "        def __init__(self, shape, length=10, threshold=4):\n",
    "            self.length = length\n",
    "            self.data = np.zeros([length] + list(shape), dtype=np.float32)\n",
    "            self.threshold = threshold\n",
    "            self.index = 0\n",
    "            self.count = 0\n",
    "\n",
    "        def extend(self, x):\n",
    "            \"\"\"\n",
    "            Adds array x to ring buffer.\n",
    "            :param x: The element to add to the RingBuffer\n",
    "            \"\"\"\n",
    "            self.data[self.index] = x\n",
    "            self.index = (self.index + 1) % self.length\n",
    "            \n",
    "            self.count += 1\n",
    "            if self.count > len(self.data):\n",
    "                self.count = len(self.data)\n",
    "\n",
    "        def mean(self):\n",
    "            return np.mean(self.data[:self.count], axis = 0)\n",
    "        \n",
    "        def rolling_threshold(self):\n",
    "            heatmap = self.mean() \n",
    "            heatmap[heatmap < self.threshold] = 0\n",
    "            return heatmap\n",
    "\n",
    "        \n",
    "smoother = RingBufSmoother(heatmaps[0].shape)\n",
    "\n",
    "# Extend and apply rolling threshold through the heatmaps\n",
    "thresholded_heatmaps = []\n",
    "for heatmap in heatmaps:\n",
    "    smoother.extend(heatmap)\n",
    "    thresholded_heatmaps.append(smoother.rolling_threshold())\n",
    "\n"
   ]
  },
  {
   "cell_type": "code",
   "execution_count": 98,
   "metadata": {
    "collapsed": false
   },
   "outputs": [
    {
     "data": {
      "text/plain": [
       "array([[[ 0.,  0.,  0., ...,  0.,  0.,  0.],\n",
       "        [ 0.,  0.,  0., ...,  0.,  0.,  0.],\n",
       "        [ 0.,  0.,  0., ...,  0.,  0.,  0.],\n",
       "        ..., \n",
       "        [ 0.,  0.,  0., ...,  0.,  0.,  0.],\n",
       "        [ 0.,  0.,  0., ...,  0.,  0.,  0.],\n",
       "        [ 0.,  0.,  0., ...,  0.,  0.,  0.]],\n",
       "\n",
       "       [[ 0.,  0.,  0., ...,  0.,  0.,  0.],\n",
       "        [ 0.,  0.,  0., ...,  0.,  0.,  0.],\n",
       "        [ 0.,  0.,  0., ...,  0.,  0.,  0.],\n",
       "        ..., \n",
       "        [ 0.,  0.,  0., ...,  0.,  0.,  0.],\n",
       "        [ 0.,  0.,  0., ...,  0.,  0.,  0.],\n",
       "        [ 0.,  0.,  0., ...,  0.,  0.,  0.]],\n",
       "\n",
       "       [[ 0.,  0.,  0., ...,  0.,  0.,  0.],\n",
       "        [ 0.,  0.,  0., ...,  0.,  0.,  0.],\n",
       "        [ 0.,  0.,  0., ...,  0.,  0.,  0.],\n",
       "        ..., \n",
       "        [ 0.,  0.,  0., ...,  0.,  0.,  0.],\n",
       "        [ 0.,  0.,  0., ...,  0.,  0.,  0.],\n",
       "        [ 0.,  0.,  0., ...,  0.,  0.,  0.]],\n",
       "\n",
       "       ..., \n",
       "       [[ 0.,  0.,  0., ...,  0.,  0.,  0.],\n",
       "        [ 0.,  0.,  0., ...,  0.,  0.,  0.],\n",
       "        [ 0.,  0.,  0., ...,  0.,  0.,  0.],\n",
       "        ..., \n",
       "        [ 0.,  0.,  0., ...,  0.,  0.,  0.],\n",
       "        [ 0.,  0.,  0., ...,  0.,  0.,  0.],\n",
       "        [ 0.,  0.,  0., ...,  0.,  0.,  0.]],\n",
       "\n",
       "       [[ 0.,  0.,  0., ...,  0.,  0.,  0.],\n",
       "        [ 0.,  0.,  0., ...,  0.,  0.,  0.],\n",
       "        [ 0.,  0.,  0., ...,  0.,  0.,  0.],\n",
       "        ..., \n",
       "        [ 0.,  0.,  0., ...,  0.,  0.,  0.],\n",
       "        [ 0.,  0.,  0., ...,  0.,  0.,  0.],\n",
       "        [ 0.,  0.,  0., ...,  0.,  0.,  0.]],\n",
       "\n",
       "       [[ 0.,  0.,  0., ...,  0.,  0.,  0.],\n",
       "        [ 0.,  0.,  0., ...,  0.,  0.,  0.],\n",
       "        [ 0.,  0.,  0., ...,  0.,  0.,  0.],\n",
       "        ..., \n",
       "        [ 0.,  0.,  0., ...,  0.,  0.,  0.],\n",
       "        [ 0.,  0.,  0., ...,  0.,  0.,  0.],\n",
       "        [ 0.,  0.,  0., ...,  0.,  0.,  0.]]], dtype=float32)"
      ]
     },
     "execution_count": 98,
     "metadata": {},
     "output_type": "execute_result"
    }
   ],
   "source": [
    "importlib.reload(postprocess)\n",
    "\n",
    "car_segmentation, num_cars = postprocess.segment_cars(thresholded_heatmaps)\n",
    "car_segmentation"
   ]
  },
  {
   "cell_type": "code",
   "execution_count": 99,
   "metadata": {
    "collapsed": false
   },
   "outputs": [
    {
     "ename": "NameError",
     "evalue": "name 'imgs' is not defined",
     "output_type": "error",
     "traceback": [
      "\u001b[0;31m---------------------------------------------------------------------------\u001b[0m",
      "\u001b[0;31mNameError\u001b[0m                                 Traceback (most recent call last)",
      "\u001b[0;32m<ipython-input-99-82856967d269>\u001b[0m in \u001b[0;36m<module>\u001b[0;34m()\u001b[0m\n\u001b[1;32m      1\u001b[0m \u001b[0mimportlib\u001b[0m\u001b[0;34m.\u001b[0m\u001b[0mreload\u001b[0m\u001b[0;34m(\u001b[0m\u001b[0mpostprocess\u001b[0m\u001b[0;34m)\u001b[0m\u001b[0;34m\u001b[0m\u001b[0m\n\u001b[1;32m      2\u001b[0m \u001b[0;34m\u001b[0m\u001b[0m\n\u001b[0;32m----> 3\u001b[0;31m \u001b[0mimgs_superimposed\u001b[0m \u001b[0;34m=\u001b[0m \u001b[0mpostprocess\u001b[0m\u001b[0;34m.\u001b[0m\u001b[0mdraw_boxes\u001b[0m\u001b[0;34m(\u001b[0m\u001b[0mimgs\u001b[0m\u001b[0;34m,\u001b[0m \u001b[0mcar_segmentation\u001b[0m\u001b[0;34m,\u001b[0m \u001b[0mnum_cars\u001b[0m\u001b[0;34m)\u001b[0m\u001b[0;34m\u001b[0m\u001b[0m\n\u001b[0m",
      "\u001b[0;31mNameError\u001b[0m: name 'imgs' is not defined"
     ]
    }
   ],
   "source": [
    "importlib.reload(postprocess)\n",
    "\n",
    "imgs_superimposed = postprocess.draw_boxes(imgs, car_segmentation, num_cars)"
   ]
  },
  {
   "cell_type": "code",
   "execution_count": 84,
   "metadata": {
    "collapsed": false
   },
   "outputs": [
    {
     "data": {
      "image/png": "[encoded data removed]",
      "text/plain": [
       "<matplotlib.figure.Figure at 0x11da1af60>"
      ]
     },
     "metadata": {},
     "output_type": "display_data"
    },
    {
     "data": {
      "image/png": "[encoded data removed]",
      "text/plain": [
       "<matplotlib.figure.Figure at 0x11da4a400>"
      ]
     },
     "metadata": {},
     "output_type": "display_data"
    },
    {
     "data": {
      "image/png": "[encoded data removed]",
      "text/plain": [
       "<matplotlib.figure.Figure at 0x11da35320>"
      ]
     },
     "metadata": {},
     "output_type": "display_data"
    },
    {
     "data": {
      "image/png": "[encoded data removed]",
      "text/plain": [
       "<matplotlib.figure.Figure at 0x11da31a90>"
      ]
     },
     "metadata": {},
     "output_type": "display_data"
    },
    {
     "data": {
      "image/png": "[encoded data removed]",
      "text/plain": [
       "<matplotlib.figure.Figure at 0x11d924e48>"
      ]
     },
     "metadata": {},
     "output_type": "display_data"
    },
    {
     "data": {
      "image/png": "[encoded data removed]",
      "text/plain": [
       "<matplotlib.figure.Figure at 0x11dc30c88>"
      ]
     },
     "metadata": {},
     "output_type": "display_data"
    },
    {
     "data": {
      "image/png": "[encoded data removed]",
      "text/plain": [
       "<matplotlib.figure.Figure at 0x11d9fb550>"
      ]
     },
     "metadata": {},
     "output_type": "display_data"
    },
    {
     "data": {
      "image/png": "[encoded data removed]",
      "text/plain": [
       "<matplotlib.figure.Figure at 0x1bed9d128>"
      ]
     },
     "metadata": {},
     "output_type": "display_data"
    }
   ],
   "source": [
    "import matplotlib.pyplot as plt\n",
    "%matplotlib inline\n",
    "\n",
    "for heatmap in heatmaps:\n",
    "    plt.imshow(np.clip(heatmap, 0, 255), cmap='hot')\n",
    "    plt.show()\n"
   ]
  },
  {
   "cell_type": "code",
   "execution_count": null,
   "metadata": {
    "collapsed": false,
    "deletable": true,
    "editable": true
   },
   "outputs": [],
   "source": [
    "# Perform a sliding window search for hogs data\n",
    "paths = glob.glob(\"project_test_images/*.jpg\")\n",
    "paths += glob.glob(\"test_images/*.jpg\")\n",
    "\n",
    "ystart = 400\n",
    "ystop = 656\n",
    "bboxes = []\n",
    "\n",
    "scale_and_thresholds = [(1, 7, 1)]\n",
    "for scale, thres, heatscale in scale_and_thresholds:\n",
    "    for path in paths:\n",
    "        print('PATH: ', path)\n",
    "        img = plt.imread(path)\n",
    "        bboxes = []\n",
    "        bboxes_sset, bbox_img = model.find_cars_hog(img, ystart, ystop, scale, svc_model, le, X_scaler, orient, pix_per_cell, cell_per_block)\n",
    "        bboxes += bboxes_sset\n",
    "        heat = np.zeros_like(img[:,:,0]).astype(np.float)\n",
    "        # Add heat to each box in box list\n",
    "        heat = postprocess.add_heat(heat,bboxes, heatscale)   \n",
    "        # Apply threshold to help remove false positives\n",
    "        heat = postprocess.apply_threshold(heat,thres)\n",
    "        # Visualize the heatmap when displaying    \n",
    "        heatmap = np.clip(heat, 0, 255)\n",
    "        # Find final boxes from heatmap using label function\n",
    "        labels = postprocess.label(heatmap)\n",
    "        draw_img = postprocess.draw_labeled_bboxes(np.copy(img), labels)\n",
    "\n",
    "        # Draw the original image, heatmap and resultant bboxes\n",
    "        fig = plt.figure(figsize=(10,10))        \n",
    "        plt.subplot(141).imshow(img)\n",
    "        plt.subplot(142).imshow(bbox_img)\n",
    "        plt.subplot(143).imshow(heatmap, cmap='hot')\n",
    "        plt.subplot(144).imshow(draw_img)\n",
    "\n",
    "        plt.show()"
   ]
  },
  {
   "cell_type": "code",
   "execution_count": null,
   "metadata": {
    "collapsed": true,
    "deletable": true,
    "editable": true
   },
   "outputs": [],
   "source": []
  }
 ],
 "metadata": {
  "kernelspec": {
   "display_name": "Python 3",
   "language": "python",
   "name": "python3"
  },
  "language_info": {
   "codemirror_mode": {
    "name": "ipython",
    "version": 3
   },
   "file_extension": ".py",
   "mimetype": "text/x-python",
   "name": "python",
   "nbconvert_exporter": "python",
   "pygments_lexer": "ipython3",
   "version": "3.5.2"
  },
  "widgets": {
   "state": {},
   "version": "1.1.2"
  }
 },
 "nbformat": 4,
 "nbformat_minor": 2
}
